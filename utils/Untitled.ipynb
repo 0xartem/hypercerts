{
 "cells": [
  {
   "cell_type": "code",
   "execution_count": 1,
   "id": "773792cc",
   "metadata": {},
   "outputs": [],
   "source": [
    "import pandas as pd\n",
    "from create_hypercert_metadata import get_metadata\n",
    "import requests"
   ]
  },
  {
   "cell_type": "code",
   "execution_count": 2,
   "id": "59308817",
   "metadata": {},
   "outputs": [
    {
     "data": {
      "text/html": [
       "<div>\n",
       "<style scoped>\n",
       "    .dataframe tbody tr th:only-of-type {\n",
       "        vertical-align: middle;\n",
       "    }\n",
       "\n",
       "    .dataframe tbody tr th {\n",
       "        vertical-align: top;\n",
       "    }\n",
       "\n",
       "    .dataframe thead th {\n",
       "        text-align: right;\n",
       "    }\n",
       "</style>\n",
       "<table border=\"1\" class=\"dataframe\">\n",
       "  <thead>\n",
       "    <tr style=\"text-align: right;\">\n",
       "      <th></th>\n",
       "      <th>round_id</th>\n",
       "      <th>project_id</th>\n",
       "      <th>status</th>\n",
       "      <th>payoutAddress</th>\n",
       "      <th>pointer</th>\n",
       "      <th>ipfs_data</th>\n",
       "      <th>recipient</th>\n",
       "      <th>title</th>\n",
       "    </tr>\n",
       "  </thead>\n",
       "  <tbody>\n",
       "    <tr>\n",
       "      <th>0</th>\n",
       "      <td>0x1b165fe4da6bc58ab8370ddc763d367d29f50ef0</td>\n",
       "      <td>0x0299d145933e3abc9bee2251589d080e0b12765e7e21...</td>\n",
       "      <td>PENDING</td>\n",
       "      <td>NaN</td>\n",
       "      <td>bafkreihlum24h6udipe4xpuntk2qfcxjbk2bjngkumdhr...</td>\n",
       "      <td>{'signature': '0xb1aece3ecd7b437f7f6f29fa9fe1b...</td>\n",
       "      <td>0x474716e617FEa8898D4fa9D891AA67B5BEDd6C4b</td>\n",
       "      <td>Solarpunk Nomads: building the first two Publi...</td>\n",
       "    </tr>\n",
       "  </tbody>\n",
       "</table>\n",
       "</div>"
      ],
      "text/plain": [
       "                                     round_id  \\\n",
       "0  0x1b165fe4da6bc58ab8370ddc763d367d29f50ef0   \n",
       "\n",
       "                                          project_id   status  payoutAddress  \\\n",
       "0  0x0299d145933e3abc9bee2251589d080e0b12765e7e21...  PENDING            NaN   \n",
       "\n",
       "                                             pointer  \\\n",
       "0  bafkreihlum24h6udipe4xpuntk2qfcxjbk2bjngkumdhr...   \n",
       "\n",
       "                                           ipfs_data  \\\n",
       "0  {'signature': '0xb1aece3ecd7b437f7f6f29fa9fe1b...   \n",
       "\n",
       "                                    recipient  \\\n",
       "0  0x474716e617FEa8898D4fa9D891AA67B5BEDd6C4b   \n",
       "\n",
       "                                               title  \n",
       "0  Solarpunk Nomads: building the first two Publi...  "
      ]
     },
     "execution_count": 2,
     "metadata": {},
     "output_type": "execute_result"
    }
   ],
   "source": [
    "df = pd.read_csv('csv/2023_01_28-10_35_05_climate_data.csv')\n",
    "df.head(1)"
   ]
  },
  {
   "cell_type": "code",
   "execution_count": 4,
   "id": "ed3f27ba",
   "metadata": {},
   "outputs": [
    {
     "name": "stdout",
     "output_type": "stream",
     "text": [
      "<class 'pandas.core.series.Series'> 0    0x1b165fe4da6bc58ab8370ddc763d367d29f50ef0\n",
      "Name: round_id, dtype: object\n"
     ]
    },
    {
     "ename": "KeyError",
     "evalue": "'ipfs_data'",
     "output_type": "error",
     "traceback": [
      "\u001b[0;31m---------------------------------------------------------------------------\u001b[0m",
      "\u001b[0;31mKeyError\u001b[0m                                  Traceback (most recent call last)",
      "\u001b[0;32m/var/folders/gh/1v87rt9j01gcjctn3v95bqkw0000gn/T/ipykernel_41889/141677099.py\u001b[0m in \u001b[0;36m<module>\u001b[0;34m\u001b[0m\n\u001b[0;32m----> 1\u001b[0;31m \u001b[0mdf\u001b[0m\u001b[0;34m.\u001b[0m\u001b[0mhead\u001b[0m\u001b[0;34m(\u001b[0m\u001b[0;36m1\u001b[0m\u001b[0;34m)\u001b[0m\u001b[0;34m.\u001b[0m\u001b[0mapply\u001b[0m\u001b[0;34m(\u001b[0m\u001b[0mget_metadata\u001b[0m\u001b[0;34m)\u001b[0m\u001b[0;34m\u001b[0m\u001b[0;34m\u001b[0m\u001b[0m\n\u001b[0m",
      "\u001b[0;32m/opt/anaconda3/lib/python3.9/site-packages/pandas/core/frame.py\u001b[0m in \u001b[0;36mapply\u001b[0;34m(self, func, axis, raw, result_type, args, **kwargs)\u001b[0m\n\u001b[1;32m   8738\u001b[0m             \u001b[0mkwargs\u001b[0m\u001b[0;34m=\u001b[0m\u001b[0mkwargs\u001b[0m\u001b[0;34m,\u001b[0m\u001b[0;34m\u001b[0m\u001b[0;34m\u001b[0m\u001b[0m\n\u001b[1;32m   8739\u001b[0m         )\n\u001b[0;32m-> 8740\u001b[0;31m         \u001b[0;32mreturn\u001b[0m \u001b[0mop\u001b[0m\u001b[0;34m.\u001b[0m\u001b[0mapply\u001b[0m\u001b[0;34m(\u001b[0m\u001b[0;34m)\u001b[0m\u001b[0;34m\u001b[0m\u001b[0;34m\u001b[0m\u001b[0m\n\u001b[0m\u001b[1;32m   8741\u001b[0m \u001b[0;34m\u001b[0m\u001b[0m\n\u001b[1;32m   8742\u001b[0m     def applymap(\n",
      "\u001b[0;32m/opt/anaconda3/lib/python3.9/site-packages/pandas/core/apply.py\u001b[0m in \u001b[0;36mapply\u001b[0;34m(self)\u001b[0m\n\u001b[1;32m    686\u001b[0m             \u001b[0;32mreturn\u001b[0m \u001b[0mself\u001b[0m\u001b[0;34m.\u001b[0m\u001b[0mapply_raw\u001b[0m\u001b[0;34m(\u001b[0m\u001b[0;34m)\u001b[0m\u001b[0;34m\u001b[0m\u001b[0;34m\u001b[0m\u001b[0m\n\u001b[1;32m    687\u001b[0m \u001b[0;34m\u001b[0m\u001b[0m\n\u001b[0;32m--> 688\u001b[0;31m         \u001b[0;32mreturn\u001b[0m \u001b[0mself\u001b[0m\u001b[0;34m.\u001b[0m\u001b[0mapply_standard\u001b[0m\u001b[0;34m(\u001b[0m\u001b[0;34m)\u001b[0m\u001b[0;34m\u001b[0m\u001b[0;34m\u001b[0m\u001b[0m\n\u001b[0m\u001b[1;32m    689\u001b[0m \u001b[0;34m\u001b[0m\u001b[0m\n\u001b[1;32m    690\u001b[0m     \u001b[0;32mdef\u001b[0m \u001b[0magg\u001b[0m\u001b[0;34m(\u001b[0m\u001b[0mself\u001b[0m\u001b[0;34m)\u001b[0m\u001b[0;34m:\u001b[0m\u001b[0;34m\u001b[0m\u001b[0;34m\u001b[0m\u001b[0m\n",
      "\u001b[0;32m/opt/anaconda3/lib/python3.9/site-packages/pandas/core/apply.py\u001b[0m in \u001b[0;36mapply_standard\u001b[0;34m(self)\u001b[0m\n\u001b[1;32m    810\u001b[0m \u001b[0;34m\u001b[0m\u001b[0m\n\u001b[1;32m    811\u001b[0m     \u001b[0;32mdef\u001b[0m \u001b[0mapply_standard\u001b[0m\u001b[0;34m(\u001b[0m\u001b[0mself\u001b[0m\u001b[0;34m)\u001b[0m\u001b[0;34m:\u001b[0m\u001b[0;34m\u001b[0m\u001b[0;34m\u001b[0m\u001b[0m\n\u001b[0;32m--> 812\u001b[0;31m         \u001b[0mresults\u001b[0m\u001b[0;34m,\u001b[0m \u001b[0mres_index\u001b[0m \u001b[0;34m=\u001b[0m \u001b[0mself\u001b[0m\u001b[0;34m.\u001b[0m\u001b[0mapply_series_generator\u001b[0m\u001b[0;34m(\u001b[0m\u001b[0;34m)\u001b[0m\u001b[0;34m\u001b[0m\u001b[0;34m\u001b[0m\u001b[0m\n\u001b[0m\u001b[1;32m    813\u001b[0m \u001b[0;34m\u001b[0m\u001b[0m\n\u001b[1;32m    814\u001b[0m         \u001b[0;31m# wrap results\u001b[0m\u001b[0;34m\u001b[0m\u001b[0;34m\u001b[0m\u001b[0m\n",
      "\u001b[0;32m/opt/anaconda3/lib/python3.9/site-packages/pandas/core/apply.py\u001b[0m in \u001b[0;36mapply_series_generator\u001b[0;34m(self)\u001b[0m\n\u001b[1;32m    826\u001b[0m             \u001b[0;32mfor\u001b[0m \u001b[0mi\u001b[0m\u001b[0;34m,\u001b[0m \u001b[0mv\u001b[0m \u001b[0;32min\u001b[0m \u001b[0menumerate\u001b[0m\u001b[0;34m(\u001b[0m\u001b[0mseries_gen\u001b[0m\u001b[0;34m)\u001b[0m\u001b[0;34m:\u001b[0m\u001b[0;34m\u001b[0m\u001b[0;34m\u001b[0m\u001b[0m\n\u001b[1;32m    827\u001b[0m                 \u001b[0;31m# ignore SettingWithCopy here in case the user mutates\u001b[0m\u001b[0;34m\u001b[0m\u001b[0;34m\u001b[0m\u001b[0m\n\u001b[0;32m--> 828\u001b[0;31m                 \u001b[0mresults\u001b[0m\u001b[0;34m[\u001b[0m\u001b[0mi\u001b[0m\u001b[0;34m]\u001b[0m \u001b[0;34m=\u001b[0m \u001b[0mself\u001b[0m\u001b[0;34m.\u001b[0m\u001b[0mf\u001b[0m\u001b[0;34m(\u001b[0m\u001b[0mv\u001b[0m\u001b[0;34m)\u001b[0m\u001b[0;34m\u001b[0m\u001b[0;34m\u001b[0m\u001b[0m\n\u001b[0m\u001b[1;32m    829\u001b[0m                 \u001b[0;32mif\u001b[0m \u001b[0misinstance\u001b[0m\u001b[0;34m(\u001b[0m\u001b[0mresults\u001b[0m\u001b[0;34m[\u001b[0m\u001b[0mi\u001b[0m\u001b[0;34m]\u001b[0m\u001b[0;34m,\u001b[0m \u001b[0mABCSeries\u001b[0m\u001b[0;34m)\u001b[0m\u001b[0;34m:\u001b[0m\u001b[0;34m\u001b[0m\u001b[0;34m\u001b[0m\u001b[0m\n\u001b[1;32m    830\u001b[0m                     \u001b[0;31m# If we have a view on v, we need to make a copy because\u001b[0m\u001b[0;34m\u001b[0m\u001b[0;34m\u001b[0m\u001b[0m\n",
      "\u001b[0;32m~/Dropbox/PL/hypercerts/utils/create_hypercert_metadata.py\u001b[0m in \u001b[0;36mget_metadata\u001b[0;34m(data)\u001b[0m\n\u001b[1;32m    157\u001b[0m \u001b[0;32mdef\u001b[0m \u001b[0mget_metadata\u001b[0m\u001b[0;34m(\u001b[0m\u001b[0mdata\u001b[0m\u001b[0;34m)\u001b[0m\u001b[0;34m:\u001b[0m\u001b[0;34m\u001b[0m\u001b[0;34m\u001b[0m\u001b[0m\n\u001b[1;32m    158\u001b[0m     \u001b[0mprint\u001b[0m\u001b[0;34m(\u001b[0m\u001b[0mtype\u001b[0m\u001b[0;34m(\u001b[0m\u001b[0mdata\u001b[0m\u001b[0;34m)\u001b[0m\u001b[0;34m,\u001b[0m \u001b[0mdata\u001b[0m\u001b[0;34m)\u001b[0m\u001b[0;34m\u001b[0m\u001b[0;34m\u001b[0m\u001b[0m\n\u001b[0;32m--> 159\u001b[0;31m     \u001b[0;32mif\u001b[0m \u001b[0misinstance\u001b[0m\u001b[0;34m(\u001b[0m\u001b[0mdata\u001b[0m\u001b[0;34m[\u001b[0m\u001b[0;34m'ipfs_data'\u001b[0m\u001b[0;34m]\u001b[0m\u001b[0;34m,\u001b[0m \u001b[0mstr\u001b[0m\u001b[0;34m)\u001b[0m\u001b[0;34m:\u001b[0m\u001b[0;34m\u001b[0m\u001b[0;34m\u001b[0m\u001b[0m\n\u001b[0m\u001b[1;32m    160\u001b[0m         \u001b[0mipfs_data\u001b[0m \u001b[0;34m=\u001b[0m \u001b[0meval\u001b[0m\u001b[0;34m(\u001b[0m\u001b[0mdata\u001b[0m\u001b[0;34m[\u001b[0m\u001b[0;34m'ipfs_data'\u001b[0m\u001b[0;34m]\u001b[0m\u001b[0;34m)\u001b[0m\u001b[0;34m\u001b[0m\u001b[0;34m\u001b[0m\u001b[0m\n\u001b[1;32m    161\u001b[0m     \u001b[0;32melse\u001b[0m\u001b[0;34m:\u001b[0m\u001b[0;34m\u001b[0m\u001b[0;34m\u001b[0m\u001b[0m\n",
      "\u001b[0;32m/opt/anaconda3/lib/python3.9/site-packages/pandas/core/series.py\u001b[0m in \u001b[0;36m__getitem__\u001b[0;34m(self, key)\u001b[0m\n\u001b[1;32m    940\u001b[0m \u001b[0;34m\u001b[0m\u001b[0m\n\u001b[1;32m    941\u001b[0m         \u001b[0;32melif\u001b[0m \u001b[0mkey_is_scalar\u001b[0m\u001b[0;34m:\u001b[0m\u001b[0;34m\u001b[0m\u001b[0;34m\u001b[0m\u001b[0m\n\u001b[0;32m--> 942\u001b[0;31m             \u001b[0;32mreturn\u001b[0m \u001b[0mself\u001b[0m\u001b[0;34m.\u001b[0m\u001b[0m_get_value\u001b[0m\u001b[0;34m(\u001b[0m\u001b[0mkey\u001b[0m\u001b[0;34m)\u001b[0m\u001b[0;34m\u001b[0m\u001b[0;34m\u001b[0m\u001b[0m\n\u001b[0m\u001b[1;32m    943\u001b[0m \u001b[0;34m\u001b[0m\u001b[0m\n\u001b[1;32m    944\u001b[0m         \u001b[0;32mif\u001b[0m \u001b[0mis_hashable\u001b[0m\u001b[0;34m(\u001b[0m\u001b[0mkey\u001b[0m\u001b[0;34m)\u001b[0m\u001b[0;34m:\u001b[0m\u001b[0;34m\u001b[0m\u001b[0;34m\u001b[0m\u001b[0m\n",
      "\u001b[0;32m/opt/anaconda3/lib/python3.9/site-packages/pandas/core/series.py\u001b[0m in \u001b[0;36m_get_value\u001b[0;34m(self, label, takeable)\u001b[0m\n\u001b[1;32m   1049\u001b[0m \u001b[0;34m\u001b[0m\u001b[0m\n\u001b[1;32m   1050\u001b[0m         \u001b[0;31m# Similar to Index.get_value, but we do not fall back to positional\u001b[0m\u001b[0;34m\u001b[0m\u001b[0;34m\u001b[0m\u001b[0m\n\u001b[0;32m-> 1051\u001b[0;31m         \u001b[0mloc\u001b[0m \u001b[0;34m=\u001b[0m \u001b[0mself\u001b[0m\u001b[0;34m.\u001b[0m\u001b[0mindex\u001b[0m\u001b[0;34m.\u001b[0m\u001b[0mget_loc\u001b[0m\u001b[0;34m(\u001b[0m\u001b[0mlabel\u001b[0m\u001b[0;34m)\u001b[0m\u001b[0;34m\u001b[0m\u001b[0;34m\u001b[0m\u001b[0m\n\u001b[0m\u001b[1;32m   1052\u001b[0m         \u001b[0;32mreturn\u001b[0m \u001b[0mself\u001b[0m\u001b[0;34m.\u001b[0m\u001b[0mindex\u001b[0m\u001b[0;34m.\u001b[0m\u001b[0m_get_values_for_loc\u001b[0m\u001b[0;34m(\u001b[0m\u001b[0mself\u001b[0m\u001b[0;34m,\u001b[0m \u001b[0mloc\u001b[0m\u001b[0;34m,\u001b[0m \u001b[0mlabel\u001b[0m\u001b[0;34m)\u001b[0m\u001b[0;34m\u001b[0m\u001b[0;34m\u001b[0m\u001b[0m\n\u001b[1;32m   1053\u001b[0m \u001b[0;34m\u001b[0m\u001b[0m\n",
      "\u001b[0;32m/opt/anaconda3/lib/python3.9/site-packages/pandas/core/indexes/range.py\u001b[0m in \u001b[0;36mget_loc\u001b[0;34m(self, key, method, tolerance)\u001b[0m\n\u001b[1;32m    386\u001b[0m                 \u001b[0;32mexcept\u001b[0m \u001b[0mValueError\u001b[0m \u001b[0;32mas\u001b[0m \u001b[0merr\u001b[0m\u001b[0;34m:\u001b[0m\u001b[0;34m\u001b[0m\u001b[0;34m\u001b[0m\u001b[0m\n\u001b[1;32m    387\u001b[0m                     \u001b[0;32mraise\u001b[0m \u001b[0mKeyError\u001b[0m\u001b[0;34m(\u001b[0m\u001b[0mkey\u001b[0m\u001b[0;34m)\u001b[0m \u001b[0;32mfrom\u001b[0m \u001b[0merr\u001b[0m\u001b[0;34m\u001b[0m\u001b[0;34m\u001b[0m\u001b[0m\n\u001b[0;32m--> 388\u001b[0;31m             \u001b[0;32mraise\u001b[0m \u001b[0mKeyError\u001b[0m\u001b[0;34m(\u001b[0m\u001b[0mkey\u001b[0m\u001b[0;34m)\u001b[0m\u001b[0;34m\u001b[0m\u001b[0;34m\u001b[0m\u001b[0m\n\u001b[0m\u001b[1;32m    389\u001b[0m         \u001b[0;32mreturn\u001b[0m \u001b[0msuper\u001b[0m\u001b[0;34m(\u001b[0m\u001b[0;34m)\u001b[0m\u001b[0;34m.\u001b[0m\u001b[0mget_loc\u001b[0m\u001b[0;34m(\u001b[0m\u001b[0mkey\u001b[0m\u001b[0;34m,\u001b[0m \u001b[0mmethod\u001b[0m\u001b[0;34m=\u001b[0m\u001b[0mmethod\u001b[0m\u001b[0;34m,\u001b[0m \u001b[0mtolerance\u001b[0m\u001b[0;34m=\u001b[0m\u001b[0mtolerance\u001b[0m\u001b[0;34m)\u001b[0m\u001b[0;34m\u001b[0m\u001b[0;34m\u001b[0m\u001b[0m\n\u001b[1;32m    390\u001b[0m \u001b[0;34m\u001b[0m\u001b[0m\n",
      "\u001b[0;31mKeyError\u001b[0m: 'ipfs_data'"
     ]
    }
   ],
   "source": [
    "df.head(1).apply(get_metadata)"
   ]
  },
  {
   "cell_type": "code",
   "execution_count": 52,
   "id": "2d923e1d",
   "metadata": {},
   "outputs": [
    {
     "data": {
      "text/plain": [
       "{'name': 'Solarpunk Nomads: building the first two Public Goods adventure vehicles',\n",
       " 'description': 'Since April 2022, we have been facilitating the collective rise of Solarpunk nomadism and gathering a tribe of nomadic changemakers. After focusing on concept development and community building, it is time to build the first Solarpunk Nomads vehicles. These vehicles will be community-owned and used for accelerating the transition to a more sustainable society ☀️ 🔋 ⚡️ 🚐\\n\\n\\n---------------------------------------------------------\\nWHO ARE THE SOLARPUNK NOMADS\\nChangemakers, dreamers, and builders who live nomadic or semi-nomadic lifestyles using zero-carbon emission vehicles (EV vans, EV bikes, sailboats, etc.) powered by renewable energies.\\n👉 These nomads are always connected to the internet with satellite connections and are proactive in building a Solarpunk society. \\n👉 These nomads will be the storytellers and main instigators of a society where advanced technology and eco-wisdom will create a brighter future for everyone.\\n\\n---------------------------------------------------------\\nWHAT WE WANT TO BUILD [NOW] \\n🔜 Set up the first two Solarpunk Nomads vehicles to be used in education and promotion programs, including being present at ReFi and crypto events in Europe and India.\\nThe 1st vehicle is a solar-powered E-bike with a trailer, stationed in locations in central Europe. The 2nd is an eco-vehicle, partially powered by solar panels, stationed in Southern India and used for educational activities and expeditions to document Climate Change (developed in collaboration with AtlantisDAO).\\n🔜 Replenish the social treasury for nomads in need.\\n🔜 Fund new artists to further develop the collective image of Solarpunk Nomadism.\\n🔜 Complete the Solarpunk Nomadism digital guidebook.\\n\\n---------------------------------------------------------\\nWHAT WE HAVE BUILT SO FAR [2022]\\n✔️ Kickstarted this new concept.\\n✔️ Created over 50 original visual artifacts in collaboration with artists.\\n✔️ Promoted Solarpunk Nomadism with over 500k views on Twitter and over 50 Twitter Spaces.\\n✔️ Defined a social treasury with guidelines for Solarpunk Nomads in need.\\n✔️ Created a digital hub for nomads on Discord.\\n✔️ Built an ongoing virtual art exhibition about Solarpunk Nomadism (https://spatial.io/s/Solarpunk-Nomads-exhibition-6315b520c490500001340a6b?share=4245792330981123574)\\n✔️ Kickstarted the new concept of Solarpunk Safe Place and Regen Lab.\\n✔️ Launched the Solar Punk Cafes.\\n✔️ Introduced the concept of Proxy Solarpunk.\\n✔️ Founded the Solarpunk Guild, a collective that supports SP-inspired projects.\\n\\n---------------------------------------------------------\\nTEAM\\n🌍 Earthbasedsoul, a wildlife biologist and visionary, has spent the last years spreading awareness on social media about the Climate Emergency and Biodiversity crisis.\\n🐻 Marco Bear runs Climate Change Countdown (a daily digital art project and expedition to document causes, effects, and solutions of Climate Change). You can find him in the Alps doing wild camping and around web3 climate spaces.\\n\\n---------------------------------------------------------\\nWHY IS SOLARPUNK NOMADISM A CLIMATE SOLUTION? \\n🌳 Promotes zero-carbon mobility, solar energy, and electric mobility.\\n🌳 Leverages nomadism to promote the Solarpunk vision.\\n🌳 Helps changemakers to adapt to the Climate Emergency and to maintain functionality in challenging times.\\n🌳 Helps to reduce the carbon footprint of the community.\\n🌳 Promotes minimalism and a rethinking of lifestyle toward sustainability.\\n🌳 Has very high potential scalability inside and outside the Web3 Space.\\n🌳 Could become the backbone of positive climate action communication.\\n🌳 Facilitates low carbon IRL connections between changemakers, projects, events.\\n',\n",
       " 'external_url': 'https://tinyurl.com/SolarpunkNomads',\n",
       " 'image': 'ipfs://bafybeihlw25dpneicps46rwblvw3xpqn2qszx275gbfd3ec7v2zm3ky7xi',\n",
       " 'version': '1.0.0',\n",
       " 'properties': [{'trait_type': 'Funding Platform', 'value': 'Gitcoin Grants'},\n",
       "  {'trait_type': 'Funding Round', 'value': 'Alpha Round'},\n",
       "  {'trait_type': 'Matching Pool', 'value': 'Climate Solutions'}],\n",
       " 'hypercert': {'impact_scope': {'name': 'Impact Scope',\n",
       "   'value': ['all'],\n",
       "   'display_value': 'All'},\n",
       "  'work_scope': {'name': 'Work Scope',\n",
       "   'value': ['Solarpunk Nomads: building the firs'],\n",
       "   'display_value': 'Solarpunk Nomads: Building The Firs'},\n",
       "  'work_timeframe': {'name': 'Work Timeframe',\n",
       "   'value': [1663819200, 1673426996],\n",
       "   'display_value': '2022-09-22 → 2023-01-11'},\n",
       "  'impact_timeframe': {'name': 'Impact Timeframe',\n",
       "   'value': [1673426996, 0],\n",
       "   'display_value': '2023-01-11 → Indefinite'},\n",
       "  'contributors': {'name': 'Contributors',\n",
       "   'value': ['0x474716e617FEa8898D4fa9D891AA67B5BEDd6C4b'],\n",
       "   'display_value': '0x474...C4b'},\n",
       "  'rights': {'name': 'Rights',\n",
       "   'value': ['public display', '-transfers'],\n",
       "   'display_value': 'Public display'}},\n",
       " 'hidden_properties': {'allowlist': 'ipfs://bafybeigcogqgin67mtssk5fhprxvvysk74lmki4i6eqk6iuurlvu4vzopm/Solarpunk Nomads- building the first two Public Goods adventure vehicles.csv',\n",
       "  'project_banner': 'ipfs://bafybeidnatloov4map4lecdaxczl7tbl4njsrizzf5jd2jrtm4lnbkvaru',\n",
       "  'project_icon': 'ipfs://bafybeihlw25dpneicps46rwblvw3xpqn2qszx275gbfd3ec7v2zm3ky7xi'}}"
      ]
     },
     "execution_count": 52,
     "metadata": {},
     "output_type": "execute_result"
    }
   ],
   "source": [
    "df['ipfs_data'].head(1).apply(lambda x: get_metadata(eval(x))).iloc[0]"
   ]
  },
  {
   "cell_type": "code",
   "execution_count": null,
   "id": "1dd86580",
   "metadata": {},
   "outputs": [],
   "source": []
  }
 ],
 "metadata": {
  "kernelspec": {
   "display_name": "Python 3 (ipykernel)",
   "language": "python",
   "name": "python3"
  },
  "language_info": {
   "codemirror_mode": {
    "name": "ipython",
    "version": 3
   },
   "file_extension": ".py",
   "mimetype": "text/x-python",
   "name": "python",
   "nbconvert_exporter": "python",
   "pygments_lexer": "ipython3",
   "version": "3.9.7"
  }
 },
 "nbformat": 4,
 "nbformat_minor": 5
}
